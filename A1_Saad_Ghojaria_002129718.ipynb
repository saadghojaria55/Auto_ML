{
  "cells": [
    {
      "cell_type": "markdown",
      "source": [
        "## Abstract\n",
        "The song popularity dataset has multiple variable from which we can predict the song popularity. The main aim is to find which all variables are making most sense. And to evaluate the accuracy of the model using H2O Auto ML.Another aim is to find which all features has high multi-collienarity. To indentify how the song popularity is scored.The dataset seems cleaned already and has no null values in it. "
      ],
      "metadata": {
        "id": "WzEOEnkeJJjH"
      }
    },
    {
      "cell_type": "code",
      "execution_count": 114,
      "metadata": {
        "colab": {
          "base_uri": "https://localhost:8080/",
          "height": 610
        },
        "id": "hYW5ZebxbGGp",
        "outputId": "e1c060e6-2db5-49e4-8092-5ca024f15b30"
      },
      "outputs": [
        {
          "output_type": "stream",
          "name": "stdout",
          "text": [
            "Requirement already satisfied: requests in /usr/local/lib/python3.7/dist-packages (2.23.0)\n",
            "Requirement already satisfied: urllib3!=1.25.0,!=1.25.1,<1.26,>=1.21.1 in /usr/local/lib/python3.7/dist-packages (from requests) (1.24.3)\n",
            "Requirement already satisfied: idna<3,>=2.5 in /usr/local/lib/python3.7/dist-packages (from requests) (2.10)\n",
            "Requirement already satisfied: chardet<4,>=3.0.2 in /usr/local/lib/python3.7/dist-packages (from requests) (3.0.4)\n",
            "Requirement already satisfied: certifi>=2017.4.17 in /usr/local/lib/python3.7/dist-packages (from requests) (2021.10.8)\n",
            "Requirement already satisfied: tabulate in /usr/local/lib/python3.7/dist-packages (0.8.9)\n",
            "Requirement already satisfied: colorama>=0.3.8 in /usr/local/lib/python3.7/dist-packages (0.4.4)\n",
            "Requirement already satisfied: future in /usr/local/lib/python3.7/dist-packages (0.16.0)\n",
            "Found existing installation: h2o 3.36.0.2\n",
            "Uninstalling h2o-3.36.0.2:\n",
            "  Would remove:\n",
            "    /usr/local/lib/python3.7/dist-packages/h2o-3.36.0.2.dist-info/*\n",
            "    /usr/local/lib/python3.7/dist-packages/h2o/*\n",
            "Proceed (y/n)? y\n",
            "  Successfully uninstalled h2o-3.36.0.2\n",
            "Looking in links: http://h2o-release.s3.amazonaws.com/h2o/latest_stable_Py.html\n",
            "\u001b[33mWARNING: The repository located at h2o-release.s3.amazonaws.com is not a trusted or secure host and is being ignored. If this repository is available via HTTPS we recommend you use HTTPS instead, otherwise you may silence this warning and allow it anyway with '--trusted-host h2o-release.s3.amazonaws.com'.\u001b[0m\n",
            "Collecting h2o\n",
            "  Using cached h2o-3.36.0.2-py2.py3-none-any.whl\n",
            "Requirement already satisfied: tabulate in /usr/local/lib/python3.7/dist-packages (from h2o) (0.8.9)\n",
            "Requirement already satisfied: future in /usr/local/lib/python3.7/dist-packages (from h2o) (0.16.0)\n",
            "Requirement already satisfied: requests in /usr/local/lib/python3.7/dist-packages (from h2o) (2.23.0)\n",
            "Requirement already satisfied: urllib3!=1.25.0,!=1.25.1,<1.26,>=1.21.1 in /usr/local/lib/python3.7/dist-packages (from requests->h2o) (1.24.3)\n",
            "Requirement already satisfied: certifi>=2017.4.17 in /usr/local/lib/python3.7/dist-packages (from requests->h2o) (2021.10.8)\n",
            "Requirement already satisfied: chardet<4,>=3.0.2 in /usr/local/lib/python3.7/dist-packages (from requests->h2o) (3.0.4)\n",
            "Requirement already satisfied: idna<3,>=2.5 in /usr/local/lib/python3.7/dist-packages (from requests->h2o) (2.10)\n",
            "Installing collected packages: h2o\n",
            "Successfully installed h2o-3.36.0.2\n"
          ]
        },
        {
          "output_type": "display_data",
          "data": {
            "application/vnd.colab-display-data+json": {
              "pip_warning": {
                "packages": [
                  "h2o"
                ]
              }
            }
          },
          "metadata": {}
        }
      ],
      "source": [
        "!pip install requests\n",
        "!pip install tabulate\n",
        "!pip install \"colorama>=0.3.8\"\n",
        "!pip install future\n",
        "!pip uninstall h2o\n",
        "!pip install -f http://h2o-release.s3.amazonaws.com/h2o/latest_stable_Py.html h2o"
      ]
    },
    {
      "cell_type": "code",
      "execution_count": 115,
      "metadata": {
        "id": "WcNn51OD6uCR"
      },
      "outputs": [],
      "source": [
        "import h2o\n",
        "from h2o.automl import H2OAutoML\n",
        "import random, os, sys\n",
        "from datetime import datetime\n",
        "import pandas as pd\n",
        "import logging\n",
        "import csv\n",
        "import optparse\n",
        "import time\n",
        "import json\n",
        "from distutils.util import strtobool\n",
        "import psutil\n",
        "import numpy as np\n",
        "import matplotlib.pyplot as plt"
      ]
    },
    {
      "cell_type": "code",
      "execution_count": 116,
      "metadata": {
        "id": "XlnFML6r6u0t"
      },
      "outputs": [],
      "source": [
        "# Set a minimum memory size and a run time in seconds\n",
        "min_mem_size=6 \n",
        "run_time=222"
      ]
    },
    {
      "cell_type": "code",
      "execution_count": 117,
      "metadata": {
        "colab": {
          "base_uri": "https://localhost:8080/"
        },
        "id": "Fr-Qgmr56zOT",
        "outputId": "849ed8db-c85b-4ccd-e85b-bc161860cd93"
      },
      "outputs": [
        {
          "output_type": "stream",
          "name": "stdout",
          "text": [
            "2\n"
          ]
        }
      ],
      "source": [
        "# Use 50% of availible resources\n",
        "pct_memory=0.5\n",
        "virtual_memory=psutil.virtual_memory()\n",
        "min_mem_size=int(round(int(pct_memory*virtual_memory.available)/1073741824,0))\n",
        "print(min_mem_size)"
      ]
    },
    {
      "cell_type": "code",
      "execution_count": 118,
      "metadata": {
        "colab": {
          "base_uri": "https://localhost:8080/",
          "height": 554
        },
        "id": "8S3PowIh61SM",
        "outputId": "11c2c1fd-f314-41f0-b887-73c8b48f90df"
      },
      "outputs": [
        {
          "output_type": "stream",
          "name": "stdout",
          "text": [
            "Checking whether there is an H2O instance running at http://localhost:47744 ..... not found.\n",
            "Attempting to start a local H2O server...\n",
            "  Java Version: openjdk version \"11.0.13\" 2021-10-19; OpenJDK Runtime Environment (build 11.0.13+8-Ubuntu-0ubuntu1.18.04); OpenJDK 64-Bit Server VM (build 11.0.13+8-Ubuntu-0ubuntu1.18.04, mixed mode, sharing)\n",
            "  Starting server from /usr/local/lib/python3.7/dist-packages/h2o/backend/bin/h2o.jar\n",
            "  Ice root: /tmp/tmprx93b6rt\n",
            "  JVM stdout: /tmp/tmprx93b6rt/h2o_unknownUser_started_from_python.out\n",
            "  JVM stderr: /tmp/tmprx93b6rt/h2o_unknownUser_started_from_python.err\n",
            "  Server is running at http://127.0.0.1:47744\n",
            "Connecting to H2O server at http://127.0.0.1:47744 ... successful.\n"
          ]
        },
        {
          "output_type": "display_data",
          "data": {
            "text/html": [
              "<div style=\"overflow:auto\"><table style=\"width:50%\"><tr><td>H2O_cluster_uptime:</td>\n",
              "<td>04 secs</td></tr>\n",
              "<tr><td>H2O_cluster_timezone:</td>\n",
              "<td>Etc/UTC</td></tr>\n",
              "<tr><td>H2O_data_parsing_timezone:</td>\n",
              "<td>UTC</td></tr>\n",
              "<tr><td>H2O_cluster_version:</td>\n",
              "<td>3.36.0.2</td></tr>\n",
              "<tr><td>H2O_cluster_version_age:</td>\n",
              "<td>19 days </td></tr>\n",
              "<tr><td>H2O_cluster_name:</td>\n",
              "<td>H2O_from_python_unknownUser_fxbkv9</td></tr>\n",
              "<tr><td>H2O_cluster_total_nodes:</td>\n",
              "<td>1</td></tr>\n",
              "<tr><td>H2O_cluster_free_memory:</td>\n",
              "<td>3.172 Gb</td></tr>\n",
              "<tr><td>H2O_cluster_total_cores:</td>\n",
              "<td>2</td></tr>\n",
              "<tr><td>H2O_cluster_allowed_cores:</td>\n",
              "<td>2</td></tr>\n",
              "<tr><td>H2O_cluster_status:</td>\n",
              "<td>locked, healthy</td></tr>\n",
              "<tr><td>H2O_connection_url:</td>\n",
              "<td>http://127.0.0.1:47744</td></tr>\n",
              "<tr><td>H2O_connection_proxy:</td>\n",
              "<td>{\"http\": null, \"https\": null}</td></tr>\n",
              "<tr><td>H2O_internal_security:</td>\n",
              "<td>False</td></tr>\n",
              "<tr><td>H2O_API_Extensions:</td>\n",
              "<td>Amazon S3, XGBoost, Algos, Infogram, AutoML, Core V3, TargetEncoder, Core V4</td></tr>\n",
              "<tr><td>Python_version:</td>\n",
              "<td>3.7.12 final</td></tr></table></div>"
            ],
            "text/plain": [
              "--------------------------  ----------------------------------------------------------------------------\n",
              "H2O_cluster_uptime:         04 secs\n",
              "H2O_cluster_timezone:       Etc/UTC\n",
              "H2O_data_parsing_timezone:  UTC\n",
              "H2O_cluster_version:        3.36.0.2\n",
              "H2O_cluster_version_age:    19 days\n",
              "H2O_cluster_name:           H2O_from_python_unknownUser_fxbkv9\n",
              "H2O_cluster_total_nodes:    1\n",
              "H2O_cluster_free_memory:    3.172 Gb\n",
              "H2O_cluster_total_cores:    2\n",
              "H2O_cluster_allowed_cores:  2\n",
              "H2O_cluster_status:         locked, healthy\n",
              "H2O_connection_url:         http://127.0.0.1:47744\n",
              "H2O_connection_proxy:       {\"http\": null, \"https\": null}\n",
              "H2O_internal_security:      False\n",
              "H2O_API_Extensions:         Amazon S3, XGBoost, Algos, Infogram, AutoML, Core V3, TargetEncoder, Core V4\n",
              "Python_version:             3.7.12 final\n",
              "--------------------------  ----------------------------------------------------------------------------"
            ]
          },
          "metadata": {}
        }
      ],
      "source": [
        "# 65535 Highest port no\n",
        "# Start the H2O server on a random port\n",
        "port_no=random.randint(5555,55555)\n",
        "\n",
        "#  h2o.init(strict_version_check=False,min_mem_size_GB=min_mem_size,port=port_no) # start h2o\n",
        "try:\n",
        "  h2o.init(strict_version_check=False,min_mem_size_GB=min_mem_size,port=port_no) # start h2o\n",
        "except:\n",
        "  logging.critical('h2o.init')\n",
        "  h2o.download_all_logs(dirname=logs_path, filename=logfile)      \n",
        "  h2o.cluster().shutdown()\n",
        "  sys.exit(2)"
      ]
    },
    {
      "cell_type": "code",
      "execution_count": 119,
      "metadata": {
        "colab": {
          "base_uri": "https://localhost:8080/"
        },
        "id": "Wl8bU3PM649B",
        "outputId": "09f82a04-a788-4302-bbb6-06dbc0640575"
      },
      "outputs": [
        {
          "output_type": "stream",
          "name": "stdout",
          "text": [
            "Parse progress: |████████████████████████████████████████████████████████████████| (done) 100%\n"
          ]
        }
      ],
      "source": [
        "url = \"/content/drive/MyDrive/song_data.csv\"\n",
        "df = h2o.import_file(path = url)"
      ]
    },
    {
      "cell_type": "code",
      "execution_count": 120,
      "metadata": {
        "colab": {
          "base_uri": "https://localhost:8080/",
          "height": 289
        },
        "id": "70DLP1Yj84Mw",
        "outputId": "d9227263-c61e-452d-df6d-75a188702fef"
      },
      "outputs": [
        {
          "output_type": "display_data",
          "data": {
            "text/html": [
              "<table>\n",
              "<thead>\n",
              "<tr><th>song_name                 </th><th style=\"text-align: right;\">  song_popularity</th><th style=\"text-align: right;\">  song_duration_ms</th><th style=\"text-align: right;\">  acousticness</th><th style=\"text-align: right;\">  danceability</th><th style=\"text-align: right;\">  energy</th><th style=\"text-align: right;\">  instrumentalness</th><th style=\"text-align: right;\">  key</th><th style=\"text-align: right;\">  liveness</th><th style=\"text-align: right;\">  loudness</th><th style=\"text-align: right;\">  audio_mode</th><th style=\"text-align: right;\">  speechiness</th><th style=\"text-align: right;\">  tempo</th><th style=\"text-align: right;\">  time_signature</th><th style=\"text-align: right;\">  audio_valence</th></tr>\n",
              "</thead>\n",
              "<tbody>\n",
              "<tr><td>Boulevard of Broken Dreams</td><td style=\"text-align: right;\">               73</td><td style=\"text-align: right;\">            262333</td><td style=\"text-align: right;\">      0.00552 </td><td style=\"text-align: right;\">         0.496</td><td style=\"text-align: right;\">   0.682</td><td style=\"text-align: right;\">          2.94e-05</td><td style=\"text-align: right;\">    8</td><td style=\"text-align: right;\">    0.0589</td><td style=\"text-align: right;\">    -4.095</td><td style=\"text-align: right;\">           1</td><td style=\"text-align: right;\">       0.0294</td><td style=\"text-align: right;\">167.06 </td><td style=\"text-align: right;\">               4</td><td style=\"text-align: right;\">          0.474</td></tr>\n",
              "<tr><td>In The End                </td><td style=\"text-align: right;\">               66</td><td style=\"text-align: right;\">            216933</td><td style=\"text-align: right;\">      0.0103  </td><td style=\"text-align: right;\">         0.542</td><td style=\"text-align: right;\">   0.853</td><td style=\"text-align: right;\">          0       </td><td style=\"text-align: right;\">    3</td><td style=\"text-align: right;\">    0.108 </td><td style=\"text-align: right;\">    -6.407</td><td style=\"text-align: right;\">           0</td><td style=\"text-align: right;\">       0.0498</td><td style=\"text-align: right;\">105.256</td><td style=\"text-align: right;\">               4</td><td style=\"text-align: right;\">          0.37 </td></tr>\n",
              "<tr><td>Seven Nation Army         </td><td style=\"text-align: right;\">               76</td><td style=\"text-align: right;\">            231733</td><td style=\"text-align: right;\">      0.00817 </td><td style=\"text-align: right;\">         0.737</td><td style=\"text-align: right;\">   0.463</td><td style=\"text-align: right;\">          0.447   </td><td style=\"text-align: right;\">    0</td><td style=\"text-align: right;\">    0.255 </td><td style=\"text-align: right;\">    -7.828</td><td style=\"text-align: right;\">           1</td><td style=\"text-align: right;\">       0.0792</td><td style=\"text-align: right;\">123.881</td><td style=\"text-align: right;\">               4</td><td style=\"text-align: right;\">          0.324</td></tr>\n",
              "<tr><td>By The Way                </td><td style=\"text-align: right;\">               74</td><td style=\"text-align: right;\">            216933</td><td style=\"text-align: right;\">      0.0264  </td><td style=\"text-align: right;\">         0.451</td><td style=\"text-align: right;\">   0.97 </td><td style=\"text-align: right;\">          0.00355 </td><td style=\"text-align: right;\">    0</td><td style=\"text-align: right;\">    0.102 </td><td style=\"text-align: right;\">    -4.938</td><td style=\"text-align: right;\">           1</td><td style=\"text-align: right;\">       0.107 </td><td style=\"text-align: right;\">122.444</td><td style=\"text-align: right;\">               4</td><td style=\"text-align: right;\">          0.198</td></tr>\n",
              "<tr><td>How You Remind Me         </td><td style=\"text-align: right;\">               56</td><td style=\"text-align: right;\">            223826</td><td style=\"text-align: right;\">      0.000954</td><td style=\"text-align: right;\">         0.447</td><td style=\"text-align: right;\">   0.766</td><td style=\"text-align: right;\">          0       </td><td style=\"text-align: right;\">   10</td><td style=\"text-align: right;\">    0.113 </td><td style=\"text-align: right;\">    -5.065</td><td style=\"text-align: right;\">           1</td><td style=\"text-align: right;\">       0.0313</td><td style=\"text-align: right;\">172.011</td><td style=\"text-align: right;\">               4</td><td style=\"text-align: right;\">          0.574</td></tr>\n",
              "<tr><td>Bring Me To Life          </td><td style=\"text-align: right;\">               80</td><td style=\"text-align: right;\">            235893</td><td style=\"text-align: right;\">      0.00895 </td><td style=\"text-align: right;\">         0.316</td><td style=\"text-align: right;\">   0.945</td><td style=\"text-align: right;\">          1.85e-06</td><td style=\"text-align: right;\">    4</td><td style=\"text-align: right;\">    0.396 </td><td style=\"text-align: right;\">    -3.169</td><td style=\"text-align: right;\">           0</td><td style=\"text-align: right;\">       0.124 </td><td style=\"text-align: right;\">189.931</td><td style=\"text-align: right;\">               4</td><td style=\"text-align: right;\">          0.32 </td></tr>\n",
              "<tr><td>Last Resort               </td><td style=\"text-align: right;\">               81</td><td style=\"text-align: right;\">            199893</td><td style=\"text-align: right;\">      0.000504</td><td style=\"text-align: right;\">         0.581</td><td style=\"text-align: right;\">   0.887</td><td style=\"text-align: right;\">          0.00111 </td><td style=\"text-align: right;\">    4</td><td style=\"text-align: right;\">    0.268 </td><td style=\"text-align: right;\">    -3.659</td><td style=\"text-align: right;\">           0</td><td style=\"text-align: right;\">       0.0624</td><td style=\"text-align: right;\"> 90.578</td><td style=\"text-align: right;\">               4</td><td style=\"text-align: right;\">          0.724</td></tr>\n",
              "<tr><td>Are You Gonna Be My Girl  </td><td style=\"text-align: right;\">               76</td><td style=\"text-align: right;\">            213800</td><td style=\"text-align: right;\">      0.00148 </td><td style=\"text-align: right;\">         0.613</td><td style=\"text-align: right;\">   0.953</td><td style=\"text-align: right;\">          0.000582</td><td style=\"text-align: right;\">    2</td><td style=\"text-align: right;\">    0.152 </td><td style=\"text-align: right;\">    -3.435</td><td style=\"text-align: right;\">           1</td><td style=\"text-align: right;\">       0.0855</td><td style=\"text-align: right;\">105.046</td><td style=\"text-align: right;\">               4</td><td style=\"text-align: right;\">          0.537</td></tr>\n",
              "<tr><td>Mr. Brightside            </td><td style=\"text-align: right;\">               80</td><td style=\"text-align: right;\">            222586</td><td style=\"text-align: right;\">      0.00108 </td><td style=\"text-align: right;\">         0.33 </td><td style=\"text-align: right;\">   0.936</td><td style=\"text-align: right;\">          0       </td><td style=\"text-align: right;\">    1</td><td style=\"text-align: right;\">    0.0926</td><td style=\"text-align: right;\">    -3.66 </td><td style=\"text-align: right;\">           1</td><td style=\"text-align: right;\">       0.0917</td><td style=\"text-align: right;\">148.112</td><td style=\"text-align: right;\">               4</td><td style=\"text-align: right;\">          0.234</td></tr>\n",
              "<tr><td>Sex on Fire               </td><td style=\"text-align: right;\">               81</td><td style=\"text-align: right;\">            203346</td><td style=\"text-align: right;\">      0.00172 </td><td style=\"text-align: right;\">         0.542</td><td style=\"text-align: right;\">   0.905</td><td style=\"text-align: right;\">          0.0104  </td><td style=\"text-align: right;\">    9</td><td style=\"text-align: right;\">    0.136 </td><td style=\"text-align: right;\">    -5.653</td><td style=\"text-align: right;\">           1</td><td style=\"text-align: right;\">       0.054 </td><td style=\"text-align: right;\">153.398</td><td style=\"text-align: right;\">               4</td><td style=\"text-align: right;\">          0.374</td></tr>\n",
              "</tbody>\n",
              "</table>"
            ]
          },
          "metadata": {}
        },
        {
          "output_type": "execute_result",
          "data": {
            "text/plain": [
              ""
            ]
          },
          "metadata": {},
          "execution_count": 120
        }
      ],
      "source": [
        "row=[15586]\n",
        "df.drop(row,axis=0)\n"
      ]
    },
    {
      "cell_type": "code",
      "execution_count": 121,
      "metadata": {
        "colab": {
          "base_uri": "https://localhost:8080/",
          "height": 632
        },
        "id": "Zo154e4F9Dwo",
        "outputId": "3b9978c4-7649-46dd-8860-49f2f9765e80"
      },
      "outputs": [
        {
          "output_type": "stream",
          "name": "stdout",
          "text": [
            "Rows:18833\n",
            "Cols:16\n",
            "\n",
            "\n"
          ]
        },
        {
          "output_type": "display_data",
          "data": {
            "text/html": [
              "<table>\n",
              "<thead>\n",
              "<tr><th>       </th><th>song_name                 </th><th>song_popularity   </th><th>song_duration_ms  </th><th>acousticness        </th><th>danceability       </th><th>energy            </th><th>instrumentalness   </th><th>key              </th><th>liveness           </th><th>loudness           </th><th>audio_mode        </th><th>speechiness         </th><th>tempo             </th><th>time_signature     </th><th>audio_valence     </th><th>churn_bit         </th></tr>\n",
              "</thead>\n",
              "<tbody>\n",
              "<tr><td>type   </td><td>enum                      </td><td>int               </td><td>int               </td><td>real                </td><td>real               </td><td>real              </td><td>real               </td><td>int              </td><td>real               </td><td>real               </td><td>int               </td><td>real                </td><td>real              </td><td>int                </td><td>real              </td><td>int               </td></tr>\n",
              "<tr><td>mins   </td><td>                          </td><td>0.0               </td><td>12000.0           </td><td>1.02e-06            </td><td>0.0                </td><td>0.00107           </td><td>0.0                </td><td>0.0              </td><td>0.0109             </td><td>-38.768            </td><td>0.0               </td><td>0.0                 </td><td>0.0               </td><td>0.0                </td><td>0.0               </td><td>0.0               </td></tr>\n",
              "<tr><td>mean   </td><td>                          </td><td>52.99553974406624 </td><td>218213.93394573362</td><td>0.25853325622895984 </td><td>0.6333354165560454 </td><td>0.6449665077258002</td><td>0.07800134884033351</td><td>5.289598045983115</td><td>0.17966188605108055</td><td>-7.447779164232999 </td><td>0.62809961238252  </td><td>0.1020927096054798  </td><td>121.07396187543145</td><td>3.959114320607444  </td><td>0.5279598099081398</td><td>52.99553974406624 </td></tr>\n",
              "<tr><td>maxs   </td><td>                          </td><td>100.0             </td><td>1799346.0         </td><td>0.996               </td><td>0.987              </td><td>0.999             </td><td>0.997              </td><td>11.0             </td><td>0.986              </td><td>1.585              </td><td>1.0               </td><td>0.941               </td><td>242.318           </td><td>5.0                </td><td>0.984             </td><td>100.0             </td></tr>\n",
              "<tr><td>sigma  </td><td>                          </td><td>21.903758102607654</td><td>59890.15209519732 </td><td>0.2887172340963566  </td><td>0.15672517264874103</td><td>0.214094569947863 </td><td>0.22159666092674765</td><td>3.614542545488745</td><td>0.14398739991400542</td><td>3.827876542453302  </td><td>0.4833248319923484</td><td>0.10437963825464319 </td><td>28.71548387623507 </td><td>0.29854842346733057</td><td>0.2446431184005412</td><td>21.903758102607654</td></tr>\n",
              "<tr><td>zeros  </td><td>                          </td><td>272               </td><td>0                 </td><td>0                   </td><td>2                  </td><td>0                 </td><td>7150               </td><td>2181             </td><td>0                  </td><td>0                  </td><td>7004              </td><td>2                   </td><td>2                 </td><td>3                  </td><td>2                 </td><td>272               </td></tr>\n",
              "<tr><td>missing</td><td>0                         </td><td>0                 </td><td>0                 </td><td>0                   </td><td>0                  </td><td>0                 </td><td>0                  </td><td>0                </td><td>0                  </td><td>0                  </td><td>0                 </td><td>0                   </td><td>0                 </td><td>0                  </td><td>0                 </td><td>0                 </td></tr>\n",
              "<tr><td>0      </td><td>Boulevard of Broken Dreams</td><td>73.0              </td><td>262333.0          </td><td>0.005520000000000001</td><td>0.496              </td><td>0.682             </td><td>2.94e-05           </td><td>8.0              </td><td>0.0589             </td><td>-4.095             </td><td>1.0               </td><td>0.0294              </td><td>167.06            </td><td>4.0                </td><td>0.474             </td><td>73.0              </td></tr>\n",
              "<tr><td>1      </td><td>In The End                </td><td>66.0              </td><td>216933.0          </td><td>0.0103              </td><td>0.542              </td><td>0.853             </td><td>0.0                </td><td>3.0              </td><td>0.108              </td><td>-6.407             </td><td>0.0               </td><td>0.0498              </td><td>105.256           </td><td>4.0                </td><td>0.37              </td><td>66.0              </td></tr>\n",
              "<tr><td>2      </td><td>Seven Nation Army         </td><td>76.0              </td><td>231733.0          </td><td>0.00817             </td><td>0.737              </td><td>0.463             </td><td>0.447              </td><td>0.0              </td><td>0.255              </td><td>-7.827999999999999 </td><td>1.0               </td><td>0.0792              </td><td>123.881           </td><td>4.0                </td><td>0.324             </td><td>76.0              </td></tr>\n",
              "<tr><td>3      </td><td>By The Way                </td><td>74.0              </td><td>216933.0          </td><td>0.0264              </td><td>0.451              </td><td>0.97              </td><td>0.00355            </td><td>0.0              </td><td>0.102              </td><td>-4.938             </td><td>1.0               </td><td>0.107               </td><td>122.444           </td><td>4.0                </td><td>0.198             </td><td>74.0              </td></tr>\n",
              "<tr><td>4      </td><td>How You Remind Me         </td><td>56.0              </td><td>223826.0          </td><td>0.000954            </td><td>0.447              </td><td>0.7659999999999999</td><td>0.0                </td><td>10.0             </td><td>0.113              </td><td>-5.065             </td><td>1.0               </td><td>0.0313              </td><td>172.011           </td><td>4.0                </td><td>0.574             </td><td>56.0              </td></tr>\n",
              "<tr><td>5      </td><td>Bring Me To Life          </td><td>80.0              </td><td>235893.0          </td><td>0.00895             </td><td>0.316              </td><td>0.945             </td><td>1.85e-06           </td><td>4.0              </td><td>0.396              </td><td>-3.1689999999999996</td><td>0.0               </td><td>0.124               </td><td>189.931           </td><td>4.0                </td><td>0.32              </td><td>80.0              </td></tr>\n",
              "<tr><td>6      </td><td>Last Resort               </td><td>81.0              </td><td>199893.0          </td><td>0.000504            </td><td>0.581              </td><td>0.887             </td><td>0.00111            </td><td>4.0              </td><td>0.268              </td><td>-3.659             </td><td>0.0               </td><td>0.0624              </td><td>90.578            </td><td>4.0                </td><td>0.7240000000000001</td><td>81.0              </td></tr>\n",
              "<tr><td>7      </td><td>Are You Gonna Be My Girl  </td><td>76.0              </td><td>213800.0          </td><td>0.00148             </td><td>0.613              </td><td>0.953             </td><td>0.000582           </td><td>2.0              </td><td>0.152              </td><td>-3.435             </td><td>1.0               </td><td>0.0855              </td><td>105.046           </td><td>4.0                </td><td>0.537             </td><td>76.0              </td></tr>\n",
              "<tr><td>8      </td><td>Mr. Brightside            </td><td>80.0              </td><td>222586.0          </td><td>0.00108             </td><td>0.33               </td><td>0.936             </td><td>0.0                </td><td>1.0              </td><td>0.0926             </td><td>-3.66              </td><td>1.0               </td><td>0.0917              </td><td>148.112           </td><td>4.0                </td><td>0.234             </td><td>80.0              </td></tr>\n",
              "<tr><td>9      </td><td>Sex on Fire               </td><td>81.0              </td><td>203346.0          </td><td>0.00172             </td><td>0.542              </td><td>0.905             </td><td>0.0104             </td><td>9.0              </td><td>0.136              </td><td>-5.653             </td><td>1.0               </td><td>0.054000000000000006</td><td>153.398           </td><td>4.0                </td><td>0.374             </td><td>81.0              </td></tr>\n",
              "</tbody>\n",
              "</table>"
            ]
          },
          "metadata": {}
        }
      ],
      "source": [
        "df['churn_bit'] = df['song_popularity'].asnumeric()\n",
        "df.types\n",
        "df.head()\n",
        "df.describe()\n"
      ]
    },
    {
      "cell_type": "code",
      "execution_count": 122,
      "metadata": {
        "colab": {
          "base_uri": "https://localhost:8080/"
        },
        "id": "nwookMlM9ip7",
        "outputId": "2df9278f-a32d-4343-baea-740e77c3b80c"
      },
      "outputs": [
        {
          "output_type": "execute_result",
          "data": {
            "text/plain": [
              "(18833, 16)"
            ]
          },
          "metadata": {},
          "execution_count": 122
        }
      ],
      "source": [
        "df.shape"
      ]
    },
    {
      "cell_type": "code",
      "execution_count": null,
      "metadata": {
        "id": "g5hl4i859GX5"
      },
      "outputs": [],
      "source": [
        "pct_rows=0.80\n",
        "df_train, df_test = df.split_frame([pct_rows])"
      ]
    },
    {
      "cell_type": "code",
      "execution_count": null,
      "metadata": {
        "id": "MHaljjqp9Ijh"
      },
      "outputs": [],
      "source": [
        "print(df_train.shape)\n",
        "print(df_test.shape)\n"
      ]
    },
    {
      "cell_type": "code",
      "execution_count": null,
      "metadata": {
        "id": "jmMCnlxS-8ce"
      },
      "outputs": [],
      "source": [
        "df_train.head()"
      ]
    },
    {
      "cell_type": "code",
      "execution_count": null,
      "metadata": {
        "id": "sxgork4Q--rv"
      },
      "outputs": [],
      "source": [
        "# Set the features and target\n",
        "X=df.columns\n",
        "print(X)"
      ]
    },
    {
      "cell_type": "code",
      "execution_count": null,
      "metadata": {
        "id": "QUBjpGXy_Cja"
      },
      "outputs": [],
      "source": [
        "# Set target and predictor variables\n",
        "y ='song_popularity'\n",
        "y_numeric ='churn_bit'\n",
        "X.remove(y)\n",
        "X.remove(y_numeric) \n",
        "print(X)"
      ]
    },
    {
      "cell_type": "code",
      "execution_count": null,
      "metadata": {
        "id": "OwyHWRvZ8uzv"
      },
      "outputs": [],
      "source": [
        "aml = H2OAutoML(max_runtime_secs=run_time, seed=1)"
      ]
    },
    {
      "cell_type": "code",
      "execution_count": null,
      "metadata": {
        "id": "R3Q8LjDF_GTp"
      },
      "outputs": [],
      "source": [
        "aml.train(x=X,y=y,training_frame=df_train)      "
      ]
    },
    {
      "cell_type": "code",
      "execution_count": null,
      "metadata": {
        "id": "5OyvijRG93C3"
      },
      "outputs": [],
      "source": [
        "print(aml.leaderboard)"
      ]
    },
    {
      "cell_type": "code",
      "execution_count": null,
      "metadata": {
        "id": "74WLTKZyKuUC"
      },
      "outputs": [],
      "source": [
        "model_index=0\n",
        "glm_index=0\n",
        "glm_model=''\n",
        "aml_leaderboard_df=aml.leaderboard.as_data_frame()\n",
        "models_dict={}\n",
        "for m in aml_leaderboard_df['model_id']:\n",
        "  models_dict[m]=model_index\n",
        "  if 'StackedEnsemble' not in m:\n",
        "    break \n",
        "  model_index=model_index+1  \n",
        "\n",
        "for m in aml_leaderboard_df['model_id']:\n",
        "  if 'GLM' in m:\n",
        "    models_dict[m]=glm_index\n",
        "    break  \n",
        "  glm_index=glm_index+1     \n",
        "models_dict"
      ]
    },
    {
      "cell_type": "code",
      "execution_count": null,
      "metadata": {
        "id": "Oc-6SiWLKz4Y"
      },
      "outputs": [],
      "source": [
        "print(model_index)\n",
        "best_model = h2o.get_model(aml.leaderboard[model_index,'model_id'])"
      ]
    },
    {
      "cell_type": "code",
      "execution_count": null,
      "metadata": {
        "id": "UWO1S3GeK3cR"
      },
      "outputs": [],
      "source": [
        "best_model.algo"
      ]
    },
    {
      "cell_type": "code",
      "execution_count": null,
      "metadata": {
        "id": "9ESej_i4K5rs"
      },
      "outputs": [],
      "source": [
        "import matplotlib.pyplot as plt\n",
        "%matplotlib inline\n",
        "\n",
        "import warnings\n",
        "import matplotlib.cbook\n",
        "warnings.filterwarnings(\"ignore\", category = matplotlib.cbook.mplDeprecation)"
      ]
    },
    {
      "cell_type": "code",
      "execution_count": null,
      "metadata": {
        "id": "fFYB5q2ULEUo"
      },
      "outputs": [],
      "source": [
        "print(best_model.rmse(train = True))"
      ]
    },
    {
      "cell_type": "code",
      "execution_count": null,
      "metadata": {
        "id": "-HKtZxRvs1wd"
      },
      "outputs": [],
      "source": [
        "print(best_model.rmse(train = False))"
      ]
    },
    {
      "cell_type": "code",
      "execution_count": null,
      "metadata": {
        "id": "5AZo2F3_LyJe"
      },
      "outputs": [],
      "source": [
        "def model_performance_stats(perf):\n",
        "    d={}\n",
        "    try:    \n",
        "      d['mse']=perf.mse()\n",
        "    except:\n",
        "      pass      \n",
        "    try:    \n",
        "      d['rmse']=perf.rmse() \n",
        "    except:\n",
        "      pass      \n",
        "    try:    \n",
        "      d['null_degrees_of_freedom']=perf.null_degrees_of_freedom()\n",
        "    except:\n",
        "      pass      \n",
        "    try:    \n",
        "      d['residual_degrees_of_freedom']=perf.residual_degrees_of_freedom()\n",
        "    except:\n",
        "      pass      \n",
        "    try:    \n",
        "      d['residual_deviance']=perf.residual_deviance() \n",
        "    except:\n",
        "      pass      \n",
        "    try:    \n",
        "      d['null_deviance']=perf.null_deviance() \n",
        "    except:\n",
        "      pass      \n",
        "    try:    \n",
        "      d['aic']=perf.aic() \n",
        "    except:\n",
        "      pass      \n",
        "    try:\n",
        "      d['logloss']=perf.logloss() \n",
        "    except:\n",
        "      pass    \n",
        "    try:\n",
        "      d['auc']=perf.auc()\n",
        "    except:\n",
        "      pass  \n",
        "    try:\n",
        "      d['gini']=perf.gini()\n",
        "    except:\n",
        "      pass    \n",
        "    return d"
      ]
    },
    {
      "cell_type": "code",
      "execution_count": null,
      "metadata": {
        "id": "lzK01Y9KL1v8"
      },
      "outputs": [],
      "source": [
        "mod_perf=best_model.model_performance(df_test)\n",
        "stats_test={}\n",
        "stats_test=model_performance_stats(mod_perf)\n",
        "stats_test"
      ]
    },
    {
      "cell_type": "code",
      "execution_count": null,
      "metadata": {
        "id": "b1FVU6BHL4OI"
      },
      "outputs": [],
      "source": [
        "predictions = best_model.predict(df_test)"
      ]
    },
    {
      "cell_type": "code",
      "execution_count": null,
      "metadata": {
        "id": "QZZ5utW2syAq"
      },
      "outputs": [],
      "source": [
        "best_model.model_performance(train=True)"
      ]
    },
    {
      "cell_type": "code",
      "execution_count": null,
      "metadata": {
        "id": "3wvaa8bfL6Z2"
      },
      "outputs": [],
      "source": [
        "y_pred=h2o.as_list(predictions)\n",
        "y_pred[0:100]"
      ]
    },
    {
      "cell_type": "code",
      "execution_count": null,
      "metadata": {
        "id": "gEecqUsJL9KS"
      },
      "outputs": [],
      "source": [
        "y_test=h2o.as_list(df_test[y_numeric])\n",
        "y_test[0:100]"
      ]
    },
    {
      "cell_type": "code",
      "execution_count": null,
      "metadata": {
        "id": "lmN8GiKXMDfW"
      },
      "outputs": [],
      "source": [
        "print(X)"
      ]
    },
    {
      "cell_type": "code",
      "execution_count": null,
      "metadata": {
        "id": "AT0051X4MPcQ"
      },
      "outputs": [],
      "source": [
        "best_model.partial_plot(df, cols=['song_duration_ms'])"
      ]
    },
    {
      "cell_type": "code",
      "execution_count": null,
      "metadata": {
        "id": "ZSNL32MxMhVL"
      },
      "outputs": [],
      "source": [
        " best_model.partial_plot(df, cols=['acousticness', 'danceability', 'energy', 'instrumentalness', 'key', 'liveness', 'loudness', 'audio_mode', 'speechiness', 'tempo', 'time_signature', 'audio_valence'])"
      ]
    },
    {
      "cell_type": "code",
      "execution_count": null,
      "metadata": {
        "id": "4mbpW8shNH3q"
      },
      "outputs": [],
      "source": [
        "def shannon_entropy(p):   \n",
        "    return (-p *np.log2(p) - (1-p)*np.log2(1-p))\n",
        "base=0.0000000001\n",
        "x = np.arange(base, 1.0-base, 0.01)\n",
        "plt.figure(1)\n",
        "plt.plot(x, shannon_entropy(x), 'go', x, shannon_entropy(x), 'k')\n",
        "plt.ylabel('Shannon entropy(X)')\n",
        "plt.xlabel('X')\n",
        "plt.show()"
      ]
    },
    {
      "cell_type": "markdown",
      "metadata": {
        "id": "zOEZcEcHGlF2"
      },
      "source": [
        "###1) Is the relationship significant?\n"
      ]
    },
    {
      "cell_type": "code",
      "execution_count": null,
      "metadata": {
        "id": "F50YzSPpK_u7"
      },
      "outputs": [],
      "source": [
        "if best_model.algo in ['gbm','drf','xrt','xgboost']:\n",
        "  best_model.varimp_plot()"
      ]
    },
    {
      "cell_type": "markdown",
      "metadata": {
        "id": "klxUnQnWkhf7"
      },
      "source": [
        "### Are any model assumptions violated?\n",
        "\n"
      ]
    },
    {
      "cell_type": "markdown",
      "source": [
        "There are four assumptions associated with a linear regression model:\n",
        "\n",
        "1.   Linearity: The relationship between X and the mean of Y is linear.\n",
        "2.   Homoscedasticity: The variance of residual is the same for any value of X\n",
        "3.   Independence: Observations are independent of each other.\n",
        "4.   Normality: For any fixed value of X, Y is normally distributed.\n",
        "\n"
      ],
      "metadata": {
        "id": "4i5plSuulu13"
      }
    },
    {
      "cell_type": "markdown",
      "metadata": {
        "id": "i-mIUa7e3mlM"
      },
      "source": [
        "Data is linear because MSE value is too high. The data is linear and this is satisfied linearity assumption.\n",
        "Ref : https://github.com/h2oai/h2o-tutorials/issues/50"
      ]
    },
    {
      "cell_type": "code",
      "source": [
        "best_model.model_performance()"
      ],
      "metadata": {
        "id": "QF-qBqAdVe1P"
      },
      "execution_count": null,
      "outputs": []
    },
    {
      "cell_type": "code",
      "source": [
        "best_model.plot()"
      ],
      "metadata": {
        "id": "ZzIVpkspVUJZ"
      },
      "execution_count": null,
      "outputs": []
    },
    {
      "cell_type": "code",
      "source": [
        "import matplotlib.pyplot as plt\n",
        "import scipy.stats as stats\n",
        "import os\n",
        "import seaborn as sns\n",
        "df_dp=pd.read_csv(\"/content/drive/MyDrive/song_data.csv\")\n",
        "\n",
        "def diagnostic_plots(df, variable):\n",
        "    \n",
        "    plt.figure(figsize=(20, 9))\n",
        "\n",
        "    plt.subplot(1, 3, 1)\n",
        "    sns.histplot(data = df_dp, x=variable, bins=30, kde=True)\n",
        "    plt.title('Histogram')\n",
        "    \n",
        "    plt.subplot(1, 3, 2)\n",
        "    stats.probplot(df[variable], dist=\"norm\", plot=plt)\n",
        "    plt.ylabel('RM quantiles')\n",
        "    \n",
        "    plt.show()"
      ],
      "metadata": {
        "id": "j4thrMTI54Wo"
      },
      "execution_count": null,
      "outputs": []
    },
    {
      "cell_type": "code",
      "source": [
        "num_columns=df_dp[['song_duration_ms','acousticness','danceability','energy','instrumentalness','key','liveness','loudness','audio_mode','speechiness','tempo','time_signature','audio_valence']].columns\n",
        "num_columns"
      ],
      "metadata": {
        "id": "COeRAzVz582A"
      },
      "execution_count": null,
      "outputs": []
    },
    {
      "cell_type": "code",
      "source": [
        "for i in num_columns:\n",
        "    diagnostic_plots(df_dp,i)"
      ],
      "metadata": {
        "id": "M6noKyoZ6P5O"
      },
      "execution_count": null,
      "outputs": []
    },
    {
      "cell_type": "markdown",
      "source": [
        "Normalization : Data is not normally distributed hence one of the model assumption is violated."
      ],
      "metadata": {
        "id": "BwuOSjz-Qcvy"
      }
    },
    {
      "cell_type": "code",
      "source": [
        "import seaborn as sns\n",
        "df_norm=pd.read_csv(\"/content/drive/MyDrive/song_data.csv\")\n",
        "df_norm=df_norm.iloc[:,1:-1]\n",
        "ax=sns.distplot(df_norm)"
      ],
      "metadata": {
        "id": "YD5LGrx9ODfP"
      },
      "execution_count": null,
      "outputs": []
    },
    {
      "cell_type": "markdown",
      "metadata": {
        "id": "07sGbfNOlRoa"
      },
      "source": [
        "### Is there any multi collinearity in the model?"
      ]
    },
    {
      "cell_type": "markdown",
      "source": [
        "As per the [Analytics Vidya](https://www.analyticsvidhya.com/blog/2020/03/what-is-multicollinearity/) multi collinearity is something which occurs when more than two independent variables are highly correlated to each other. \n",
        "\n",
        "**Why is it an issue?**<br>\n",
        "Multicollinearity can be a problem in a regression model because we would not be able to distinguish between the individual effects of the independent variables on the dependent variable. It will might **not effect effieciency** of the model but might effect the reiabibility of the model\n",
        "\n",
        "**How to fix?**<br>\n",
        "Highest multi collinear columns must be dropped to fix the multi collinearity issue"
      ],
      "metadata": {
        "id": "wpBizjjEWb0B"
      }
    },
    {
      "cell_type": "code",
      "execution_count": null,
      "metadata": {
        "id": "wt7ohYOCklTb"
      },
      "outputs": [],
      "source": [
        "from statsmodels.stats.outliers_influence import variance_inflation_factor"
      ]
    },
    {
      "cell_type": "code",
      "execution_count": null,
      "metadata": {
        "id": "7nqhOOPJ4plS"
      },
      "outputs": [],
      "source": [
        "# VIF dataframe\n",
        "dfp=pd.read_csv(\"/content/drive/MyDrive/song_data.csv\")\n",
        "\n",
        "def calc_vif(X):\n",
        "    vif = pd.DataFrame()\n",
        "    vif[\"variables\"] = X.columns\n",
        "    vif[\"VIF\"] = [variance_inflation_factor(X.values, i) for i in range(X.shape[1])]\n",
        "    return(vif)\n"
      ]
    },
    {
      "cell_type": "code",
      "execution_count": null,
      "metadata": {
        "id": "AFj4wMzZ7vTc"
      },
      "outputs": [],
      "source": [
        "X = dfp.iloc[:,2:-1]\n",
        "calc_vif(X)"
      ]
    },
    {
      "cell_type": "code",
      "execution_count": null,
      "metadata": {
        "id": "oDVNn-oPlQuA"
      },
      "outputs": [],
      "source": [
        "preds = aml.predict(df_test)\n"
      ]
    },
    {
      "cell_type": "code",
      "execution_count": null,
      "metadata": {
        "id": "I0l2u_dvEQfJ"
      },
      "outputs": [],
      "source": [
        "model_ids = list(aml.leaderboard['model_id'].as_data_frame().iloc[:,0])\n",
        "# Get the \"All Models\" Stacked Ensemble model\n",
        "se = h2o.get_model([mid for mid in model_ids if \"StackedEnsemble_AllModels\" in mid][0])\n",
        "metalearner = h2o.get_model(se.metalearner()['name'])\n"
      ]
    },
    {
      "cell_type": "code",
      "execution_count": null,
      "metadata": {
        "id": "lgUA2LGOEbD1"
      },
      "outputs": [],
      "source": [
        "metalearner.coef_norm()"
      ]
    },
    {
      "cell_type": "markdown",
      "metadata": {
        "id": "9oYB2ohIlgFp"
      },
      "source": [
        "### In the multivariate models are predictor variables independent of all the other predictor variables?\n",
        "\n"
      ]
    },
    {
      "cell_type": "markdown",
      "source": [
        "You can tell if two random variables are independent by looking at their individual probabilities. If those probabilities don’t change when the events meet, then those variables are independent. Another way of saying this is that if the two variables are correlated, then they are not independent.[[Ref]](https://www.statisticshowto.com/independent-random-variables/#:~:text=You%20can%20tell%20if%20two,then%20they%20are%20not%20independent). So yes the variables are NOT independent in multivariate models. "
      ],
      "metadata": {
        "id": "KiQvV7wqbWsz"
      }
    },
    {
      "cell_type": "code",
      "source": [
        "df_n=pd.read_csv(\"/content/drive/MyDrive/song_data.csv\")\n",
        "df_n=df_n.iloc[:,2:-1]\n",
        "cor_h2o=df_n.corr(method='pearson',min_periods=1).round(2)\n",
        "sns.heatmap(cor_h2o, annot=True)\n",
        "plt.show()"
      ],
      "metadata": {
        "id": "IxpH3OIabKEz"
      },
      "execution_count": null,
      "outputs": []
    },
    {
      "cell_type": "markdown",
      "metadata": {
        "id": "0m8b_rsJlmBD"
      },
      "source": [
        "### In multivariate models rank the most significant predictor variables and exclude insignificant ones from the model.\n",
        "\n"
      ]
    },
    {
      "cell_type": "markdown",
      "source": [
        "Multiple Variable models have more than one variable which can act as predictor, as per [Elseiver](https://www.elsevier.es/en-revista-allergologia-et-immunopathologia-105-articulo-simple-linear-multivariate-regression-models-S0301054611001054). "
      ],
      "metadata": {
        "id": "9sDadwsncM4A"
      }
    },
    {
      "cell_type": "code",
      "execution_count": null,
      "metadata": {
        "id": "1pHaxm3Wlp7M"
      },
      "outputs": [],
      "source": [
        "from h2o.estimators.glm import H2OGeneralizedLinearEstimator\n",
        "\n",
        "model_glm=H2OGeneralizedLinearEstimator(family = 'poisson', lambda_ = 0,\n",
        "                                             remove_collinear_columns = True,\n",
        "                                             compute_p_values = True)\n",
        "\n"
      ]
    },
    {
      "cell_type": "code",
      "source": [
        "predictors=['song_duration_ms','acousticness','danceability','energy','instrumentalness','key','liveness','loudness','audio_mode','speechiness','tempo','time_signature','audio_valence']"
      ],
      "metadata": {
        "id": "0UzHHSAkZUFD"
      },
      "execution_count": null,
      "outputs": []
    },
    {
      "cell_type": "code",
      "source": [
        "response='song_popularity'"
      ],
      "metadata": {
        "id": "or2fUskfZvb7"
      },
      "execution_count": null,
      "outputs": []
    },
    {
      "cell_type": "code",
      "source": [
        "model_glm.train(x = predictors, y = response, training_frame = df_train, validation_frame = df_test)"
      ],
      "metadata": {
        "id": "zknuZz0IZDvn"
      },
      "execution_count": null,
      "outputs": []
    },
    {
      "cell_type": "code",
      "execution_count": null,
      "metadata": {
        "id": "F-4bBWbJmudI"
      },
      "outputs": [],
      "source": [
        "varimp = model_glm.varimp(use_pandas=True)"
      ]
    },
    {
      "cell_type": "code",
      "source": [
        "print(varimp)"
      ],
      "metadata": {
        "id": "lbth7o1td1Dl"
      },
      "execution_count": null,
      "outputs": []
    },
    {
      "cell_type": "code",
      "source": [
        "plt.figure(figsize=(20,15))\n",
        "\n",
        "plt.plot(varimp['variable'],varimp['relative_importance'])\n"
      ],
      "metadata": {
        "id": "0aEcT2EAfh4Y"
      },
      "execution_count": null,
      "outputs": []
    },
    {
      "cell_type": "markdown",
      "metadata": {
        "id": "rWpCOrQfluf2"
      },
      "source": [
        "### Does the model make sense?\n",
        "\n"
      ]
    },
    {
      "cell_type": "markdown",
      "source": [
        "As per the model summary R^2 value is 0.7 for the model which is referred as high accuracy of the model with the help of H2o Auto ML"
      ],
      "metadata": {
        "id": "DgWvgstFB-ne"
      }
    },
    {
      "cell_type": "markdown",
      "metadata": {
        "id": "eUzImqRZl5t0"
      },
      "source": [
        "###Does regularization help?\n",
        "\n"
      ]
    },
    {
      "cell_type": "markdown",
      "source": [
        "Yes regularization helps alot MSE value before regularization was 110 and after it was 455 hence regularization is making sense to model"
      ],
      "metadata": {
        "id": "SST4xSmVRHnV"
      }
    },
    {
      "cell_type": "code",
      "execution_count": null,
      "metadata": {
        "id": "IIwz0zmJmmSD"
      },
      "outputs": [],
      "source": [
        "from h2o.estimators.glm import H2OGeneralizedLinearEstimator\n",
        "charges_glm = H2OGeneralizedLinearEstimator(family = 'gaussian', lambda_ = 0, compute_p_values = True)\n",
        "charges_glm_regularization = H2OGeneralizedLinearEstimator(family = 'gaussian', lambda_ = .001, alpha = 0)"
      ]
    },
    {
      "cell_type": "code",
      "source": [
        "df_r= df.drop(['song_popularity', 'song_name'], axis = 1)\n",
        "X1=df_r.columns\n"
      ],
      "metadata": {
        "id": "kBipM9_VNgYS"
      },
      "execution_count": null,
      "outputs": []
    },
    {
      "cell_type": "code",
      "execution_count": null,
      "metadata": {
        "id": "mo1Q0FIR-Pv7"
      },
      "outputs": [],
      "source": [
        "pct_rows=0.80\n",
        "df1_train,df1_test = df.split_frame([pct_rows])"
      ]
    },
    {
      "cell_type": "code",
      "source": [
        "charges_glm_regularization.train(x = X, y= y,training_frame = df1_train)"
      ],
      "metadata": {
        "id": "LjWoTvC4Q7Wt"
      },
      "execution_count": null,
      "outputs": []
    },
    {
      "cell_type": "markdown",
      "metadata": {
        "id": "QdcnU5rd9shr"
      },
      "source": [
        "### Which independent variables are significant? \n"
      ]
    },
    {
      "cell_type": "code",
      "execution_count": null,
      "metadata": {
        "id": "7ZuQVqNR9w5d"
      },
      "outputs": [],
      "source": [
        "df_n=pd.read_csv(\"/content/drive/MyDrive/song_data.csv\")\n",
        "\n",
        "df_n=df_n.iloc[:,2:-1]\n",
        "cor_h2o=df_n.corr(method='pearson',min_periods=1).round(2)"
      ]
    },
    {
      "cell_type": "code",
      "execution_count": null,
      "metadata": {
        "id": "lyB0IKZ_-QWa"
      },
      "outputs": [],
      "source": [
        "import seaborn as sns"
      ]
    },
    {
      "cell_type": "code",
      "execution_count": null,
      "metadata": {
        "id": "NQHbBFV6-VMO"
      },
      "outputs": [],
      "source": [
        "sns.heatmap(cor_h2o, annot=True)\n",
        "plt.show()"
      ]
    },
    {
      "cell_type": "markdown",
      "source": [
        "Filtered values more than 0.7 to find most relevant values from the below heatmap it shows energy and loudness are most correlated variables in the dataset. If we filter it less than 0.6 it will show relation between acousticness and energy"
      ],
      "metadata": {
        "id": "mLGmEb6XgDXM"
      }
    },
    {
      "cell_type": "code",
      "source": [
        "cor_h2o = cor_h2o.unstack()\n",
        "cor_h2o = cor_h2o[abs(cor_h2o) >= 0.7]\n",
        "cor_h2o.describe()\n",
        "sns.heatmap(cor_h2o, annot=True)\n",
        "plt.show()"
      ],
      "metadata": {
        "id": "XWE1w9f-c2lB"
      },
      "execution_count": null,
      "outputs": []
    },
    {
      "cell_type": "markdown",
      "metadata": {
        "id": "3QiVRFahmskI"
      },
      "source": [
        "###Which hyperparameters are important?\n",
        "\n",
        "Hyperparameters like gamma,max depth, split datasets will be hyperparameters which are important. \n",
        "\n",
        "\n"
      ]
    },
    {
      "cell_type": "markdown",
      "source": [
        "### *Conclusion*\n",
        "Completed the notebook here with the end notes as the auto ml library H2O.ai is working perfectly with the dataset and with effieicnt accuracy of the model. The notebook concludes that there are h2o library can help giving better accuracy with less amount of work. But still I believe the dataset is supposed to manipulated and made neccessary functions which library limits. The dateset was small but can be more accurate with more data. H2o library gave the results with accuracy of 77%. Notebook has considered with and without regularization effects to the model. Also which variables are important and directly dependent to each other."
      ],
      "metadata": {
        "id": "WN1eA5gHY34A"
      }
    },
    {
      "cell_type": "markdown",
      "source": [
        "## Licensing and Citation H2o.ai\n",
        "H2O.ai (Feb 2022). Auto ML  for H2O, Python module version 3.10.0.8. <br>\n",
        "Copyright (c) 2022 Author Saad Ghojaria.\n",
        "\n"
      ],
      "metadata": {
        "id": "-U4pc6M_GsJc"
      }
    },
    {
      "cell_type": "code",
      "source": [
        ""
      ],
      "metadata": {
        "id": "smJQF_JQOg-h"
      },
      "execution_count": null,
      "outputs": []
    }
  ],
  "metadata": {
    "accelerator": "GPU",
    "colab": {
      "collapsed_sections": [
        "0m8b_rsJlmBD"
      ],
      "name": "A1-Saad-Ghojaria-002129718.ipynb",
      "provenance": []
    },
    "kernelspec": {
      "display_name": "Python 3",
      "name": "python3"
    },
    "language_info": {
      "name": "python"
    }
  },
  "nbformat": 4,
  "nbformat_minor": 0
}